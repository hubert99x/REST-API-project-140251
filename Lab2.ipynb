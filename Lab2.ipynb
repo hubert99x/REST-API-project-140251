{
 "cells": [
  {
   "cell_type": "markdown",
   "id": "b7c2acc3-e78f-4a6c-8447-db245a8da285",
   "metadata": {},
   "source": [
    "# **Tworzenie API we Flasku – Wprowadzenie**\n",
    "\n",
    "W tym ćwiczeniu nauczysz się, jak stworzyć proste API w Flasku, uruchomić je, wysyłać do niego zapytania oraz wykorzystać model decyzyjny w oparciu o podstawową regułę logiczną.\n",
    "\n",
    "## **1️⃣ Tworzenie podstawowego API**\n",
    "Najpierw utworzymy podstawową aplikację Flask.\n",
    "\n",
    "### **Zapisanie kodu API do pliku**\n",
    "W Jupyter Notebooku użyj magicznej komendy `%%file`, aby zapisać kod podstawowej aplikacji flask do pliku `app.py`: Kod znajdziesz na [cw1](https://sebkaz-teaching.github.io/RTA_2025/cw1.html)\n",
    "Jako tekst do wyświetlenie strony głównej użyj `Witaj w moim API!`."
   ]
  },
  {
   "cell_type": "code",
   "execution_count": 62,
   "id": "14c37263-583c-4c57-9454-7d1d93269999",
   "metadata": {},
   "outputs": [
    {
     "name": "stdout",
     "output_type": "stream",
     "text": [
      "Overwriting app.py\n"
     ]
    }
   ],
   "source": [
    "%%file app.py\n",
    "###\n",
    "from flask import Flask, jsonify\n",
    "\n",
    "app = Flask(__name__)\n",
    "\n",
    "@app.route('/')\n",
    "def home():\n",
    "    return jsonify({\"message\": \"Witaj w moim API!\"})\n",
    "\n",
    "if __name__ == '__main__':\n",
    "    app.run(host='0.0.0.0', port=5000)\n",
    "###"
   ]
  },
  {
   "cell_type": "markdown",
   "id": "e2af6c95-3ee1-41c3-8781-50e1b80f2f17",
   "metadata": {},
   "source": [
    "Teraz uruchom API w terminalu, wpisując:\n",
    "```sh\n",
    "python app.py\n",
    "```\n",
    "Flask uruchomi serwer lokalnie pod adresem `http://127.0.0.1:5000/`."
   ]
  },
  {
   "cell_type": "markdown",
   "id": "b6dbfd19-a621-45bc-aadf-5cd9a71e6eaf",
   "metadata": {},
   "source": [
    "### **Sprawdzenie działania API**\n",
    "W Jupyter Notebooku wykonaj zapytanie GET do strony głównej. Na podstawie pola `status_code` napisz wyrażenie warunkowe które dla status_code 200 wyświetli zawartość odpowiedzi (z pola `content`)."
   ]
  },
  {
   "cell_type": "code",
   "execution_count": 63,
   "id": "f292293f-29e8-488e-b681-91eef946a0c6",
   "metadata": {},
   "outputs": [
    {
     "name": "stdout",
     "output_type": "stream",
     "text": [
      "Status 200 OK\n",
      "b'{\"message\":\"Witaj w moim API!\"}\\n'\n"
     ]
    }
   ],
   "source": [
    "import requests\n",
    "\n",
    "response = requests.get(\"http://localhost:5000/\")\n",
    "\n",
    "if response.status_code == 200:\n",
    "    print(\"Status 200 OK\")\n",
    "    print(response.content)\n",
    "else:\n",
    "    print(f\"Błąd: {response.status_code}\")"
   ]
  },
  {
   "cell_type": "markdown",
   "id": "90f91405-edaf-458c-96b3-1e03c5b6c56b",
   "metadata": {},
   "source": [
    "Jeśli wszystko działa poprawnie, zobaczysz komunikat `Witaj w moim API!`.\n",
    "---\n",
    "\n",
    "## **2️⃣ Dodanie nowej podstrony**\n",
    "Dodajmy nową podstronę `mojastrona`, która zwróci komunikat `To jest moja strona!`."
   ]
  },
  {
   "cell_type": "code",
   "execution_count": 126,
   "id": "901da667-f30f-4520-88e2-981c3cd07845",
   "metadata": {},
   "outputs": [
    {
     "name": "stdout",
     "output_type": "stream",
     "text": [
      "Overwriting app.py\n"
     ]
    }
   ],
   "source": [
    "%%file app.py\n",
    "###\n",
    "from flask import Flask, jsonify\n",
    "\n",
    "app = Flask(__name__)\n",
    "\n",
    "@app.route('/')\n",
    "def home():\n",
    "    return jsonify({\"message\": \"Witaj w moim API!\"})\n",
    "\n",
    "@app.route('/mojastrona')\n",
    "def moja_strona():\n",
    "    return \"To jest moja strona!\"\n",
    "\n",
    "if __name__ == '__main__':\n",
    "    app.run(host='0.0.0.0', port=5000)\n",
    "###"
   ]
  },
  {
   "cell_type": "markdown",
   "id": "e7bb7b21-a725-4de8-b154-2f1484bc97f5",
   "metadata": {},
   "source": [
    "Ponownie uruchom API i wykonaj zapytanie do strony `\"http://127.0.0.1:5000/mojastrona\"`:"
   ]
  },
  {
   "cell_type": "code",
   "execution_count": 127,
   "id": "c3ceade1-8619-4684-ac7c-a1b91bd0e871",
   "metadata": {},
   "outputs": [
    {
     "name": "stdout",
     "output_type": "stream",
     "text": [
      "Status 200 OK\n",
      "b'To jest moja strona!'\n"
     ]
    }
   ],
   "source": [
    "response = requests.get(\"http://localhost:5000/mojastrona\")\n",
    "\n",
    "if response.status_code == 200:\n",
    "    print(\"Status 200 OK\")\n",
    "    print(response.content)\n",
    "else:\n",
    "    print(f\"Błąd: {response.status_code}\")"
   ]
  },
  {
   "cell_type": "markdown",
   "id": "a13f3e1e-1689-4e19-9984-54e6e8602b67",
   "metadata": {},
   "source": [
    "Powinieneś zobaczyć: `To jest moja strona!`\n",
    "\n",
    "---\n",
    "\n",
    "## **3️⃣ Automatyczne uruchamianie serwera z Jupyter Notebook**\n",
    "Zamknij wcześniej uruchomiony serwer (`Ctrl+C` w terminalu) i uruchom go ponownie bezpośrednio z Jupyter Notebook, korzystając z `subprocess.Popen`:"
   ]
  },
  {
   "cell_type": "code",
   "execution_count": 140,
   "id": "b5aef41b-f747-4949-a676-a8b49de88c7f",
   "metadata": {},
   "outputs": [],
   "source": [
    "import subprocess\n",
    "p = subprocess.Popen([\"python\", \"app.py\"])"
   ]
  },
  {
   "cell_type": "markdown",
   "id": "6507101d-4f43-483a-a43d-2c07a3a9d23a",
   "metadata": {},
   "source": [
    "Po testach zamknij serwer wykorzystując metodę `kill`:\n"
   ]
  },
  {
   "cell_type": "code",
   "execution_count": 141,
   "id": "2460792a-c7c2-45a2-af86-9a1572fd5c35",
   "metadata": {},
   "outputs": [
    {
     "name": "stdout",
     "output_type": "stream",
     "text": [
      "Zabijam główny proces PID: 49569\n"
     ]
    }
   ],
   "source": [
    "import psutil\n",
    "\n",
    "def kill_process_tree(pid):\n",
    "    parent = psutil.Process(pid)\n",
    "    for child in parent.children(recursive=True):\n",
    "        print(f\"Zabijam podproces PID: {child.pid}\")\n",
    "        child.kill()\n",
    "    print(f\"Zabijam główny proces PID: {pid}\")\n",
    "    parent.kill()\n",
    "\n",
    "kill_process_tree(p.pid)\n"
   ]
  },
  {
   "cell_type": "markdown",
   "id": "6a02adf4-8ac0-4e3c-b1ee-0a9e1cc8933f",
   "metadata": {},
   "source": [
    "---\n",
    "\n",
    "## **4️⃣ Obsługa parametrów w adresie URL**\n",
    "Dodajemy nową podstronę `/hello`, która będzie przyjmować parametr `name`.\n",
    "\n",
    "Edytuj `app.py`, dodając odpowiedni  kod\n"
   ]
  },
  {
   "cell_type": "code",
   "execution_count": 155,
   "id": "9e42700e-e83a-4a2b-b4e8-164827a6994f",
   "metadata": {},
   "outputs": [
    {
     "name": "stdout",
     "output_type": "stream",
     "text": [
      "Overwriting app.py\n"
     ]
    }
   ],
   "source": [
    "%%file app.py\n",
    "###\n",
    "from flask import Flask, jsonify, request\n",
    "\n",
    "app = Flask(__name__)\n",
    "\n",
    "@app.route('/')\n",
    "def home():\n",
    "    return jsonify({\"message\": \"Witaj w moim API!\"})\n",
    "\n",
    "@app.route('/mojastrona')\n",
    "def moja_strona():\n",
    "    return \"To jest moja strona!\"\n",
    "\n",
    "@app.route('/hello')\n",
    "def hello():\n",
    "    name = request.args.get('name')\n",
    "    if name:\n",
    "        return f\"Hello {name}!\"\n",
    "    else:\n",
    "        return \"Hello!\"\n",
    "\n",
    "@app.errorhandler(404)\n",
    "def not_found(error):\n",
    "    return jsonify({\"error\": \"Not Found\"}), 404\n",
    "\n",
    "@app.errorhandler(400)\n",
    "def bad_request(error):\n",
    "    return jsonify({\"error\": \"Bad Request\"}), 400\n",
    "\n",
    "if __name__ == '__main__':\n",
    "    app.run(host='0.0.0.0', port=5000) \n",
    "###\n"
   ]
  },
  {
   "cell_type": "markdown",
   "id": "bb1f2e04-4bed-4a70-8131-b2f25f343962",
   "metadata": {},
   "source": [
    "Uruchom serwer i sprawdź działanie API:\n",
    "```python\n",
    "res1 = requests.get(\"http://127.0.0.1:5000/hello\")\n",
    "print(res1.content)  # Powinno zwrócić \"Hello!\"\n",
    "\n",
    "res2 = requests.get(\"http://127.0.0.1:5000/hello?name=Sebastian\")\n",
    "print(res2.content)  # Powinno zwrócić \"Hello Sebastian!\"\n",
    "```\n",
    "\n",
    "---"
   ]
  },
  {
   "cell_type": "code",
   "execution_count": 156,
   "id": "864d78d0-7ee0-47da-adbd-d98caf6aeb25",
   "metadata": {},
   "outputs": [],
   "source": [
    "!pip install pytest requests -q"
   ]
  },
  {
   "cell_type": "code",
   "execution_count": 157,
   "id": "b24c3e7f-6b61-485d-ae00-6c5bfed69cc6",
   "metadata": {},
   "outputs": [
    {
     "name": "stdout",
     "output_type": "stream",
     "text": [
      "Overwriting test_app.py\n"
     ]
    }
   ],
   "source": [
    "%%file test_app.py\n",
    "import pytest\n",
    "import requests\n",
    "\n",
    "def test_home():\n",
    "    response = requests.get(\"http://127.0.0.1:5000/\")\n",
    "    assert response.status_code == 200\n",
    "    assert response.json()[\"message\"] == \"Witaj w moim API!\""
   ]
  },
  {
   "cell_type": "code",
   "execution_count": 158,
   "id": "a324e01c-c28a-4220-97b2-4c5ef92dc42e",
   "metadata": {},
   "outputs": [
    {
     "name": "stdout",
     "output_type": "stream",
     "text": [
      "\u001b[1m============================= test session starts ==============================\u001b[0m\n",
      "platform linux -- Python 3.11.6, pytest-8.3.5, pluggy-1.5.0\n",
      "rootdir: /home/jovyan/notebooks/cwiczenia/Zaoczne/cw2\n",
      "plugins: anyio-4.0.0\n",
      "collected 1 item                                                               \u001b[0m\n",
      "\n",
      "test_app.py \u001b[32m.\u001b[0m\u001b[32m                                                            [100%]\u001b[0m\n",
      "\n",
      "\u001b[32m============================== \u001b[32m\u001b[1m1 passed\u001b[0m\u001b[32m in 0.26s\u001b[0m\u001b[32m ===============================\u001b[0m\n"
     ]
    }
   ],
   "source": [
    "!pytest test_app.py"
   ]
  },
  {
   "cell_type": "markdown",
   "id": "fc1ae653-8609-49f7-a992-3ff437f96700",
   "metadata": {},
   "source": [
    "## **5️⃣ Tworzenie API z prostym modelem ML**\n",
    "Stworzymy nową podstronę `/api/v1.0/predict`, która przyjmuje dwie liczby i zwraca wynik reguły decyzyjnej:\n",
    "- Jeśli suma dwóch liczb jest większa niż 5.8, zwraca `1`.\n",
    "- W przeciwnym razie zwraca `0`.\n"
   ]
  },
  {
   "cell_type": "code",
   "execution_count": 161,
   "id": "2514ea03-0e8d-44dc-967c-be7909a7e061",
   "metadata": {},
   "outputs": [
    {
     "name": "stdout",
     "output_type": "stream",
     "text": [
      "Overwriting app.py\n"
     ]
    }
   ],
   "source": [
    "%%file app.py\n",
    "###\n",
    "from flask import Flask, jsonify, request\n",
    "\n",
    "app = Flask(__name__)\n",
    "\n",
    "@app.route('/')\n",
    "def home():\n",
    "    return jsonify({\"message\": \"Witaj w moim API!\"})\n",
    "\n",
    "@app.route('/mojastrona')\n",
    "def moja_strona():\n",
    "    return \"To jest moja strona!\"\n",
    "\n",
    "@app.route('/hello')\n",
    "def hello():\n",
    "    name = request.args.get('name') \n",
    "    if name:\n",
    "        return f\"Hello {name}!\"\n",
    "    else:\n",
    "        return \"Hello!\"\n",
    "\n",
    "@app.route('/api/v1.0/predict')\n",
    "def predict():\n",
    "    try:\n",
    "        num1 = float(request.args.get('num1', 0))\n",
    "        num2 = float(request.args.get('num2', 0))\n",
    "        total = num1 + num2\n",
    "\n",
    "        prediction = 1 if total > 5.8 else 0\n",
    "\n",
    "        return jsonify({\n",
    "            \"prediction\": prediction,\n",
    "            \"features\": {\n",
    "                \"num1\": num1,\n",
    "                \"num2\": num2\n",
    "            }\n",
    "        })\n",
    "\n",
    "    except Exception as e:\n",
    "        return jsonify({\"error\": str(e)}), 400\n",
    "\n",
    "@app.errorhandler(404)\n",
    "def not_found(error):\n",
    "    return jsonify({\"error\": \"Not Found\"}), 404\n",
    "\n",
    "@app.errorhandler(400)\n",
    "def bad_request(error):\n",
    "    return jsonify({\"error\": \"Bad Request\"}), 400\n",
    "    \n",
    "\n",
    "if __name__ == '__main__':\n",
    "    app.run(host='0.0.0.0', port=5000)\n",
    "###\n"
   ]
  },
  {
   "cell_type": "code",
   "execution_count": 162,
   "id": "f5a429cd-b6b6-473d-9530-1258df192231",
   "metadata": {},
   "outputs": [
    {
     "name": "stdout",
     "output_type": "stream",
     "text": [
      "{'features': {'num1': 3.0, 'num2': 4.0}, 'prediction': 1}\n"
     ]
    }
   ],
   "source": [
    "res = requests.get(\"http://127.0.0.1:5000/api/v1.0/predict?num1=3&num2=4\")\n",
    "print(res.json())  # Powinno zwrócić {\"prediction\": 1, \"features\": {\"num1\": 3.0, \"num2\": 4.0}}"
   ]
  },
  {
   "cell_type": "markdown",
   "id": "4ef4b5a6-387e-4d2e-b4e3-a716e5c885f5",
   "metadata": {},
   "source": [
    "Sprawdź działanie API:\n",
    "```python\n",
    "res = requests.get(\"http://127.0.0.1:5000/api/v1.0/predict?num1=3&num2=4\")\n",
    "print(res.json())  # Powinno zwrócić {\"prediction\": 1, \"features\": {\"num1\": 3.0, \"num2\": 4.0}}\n",
    "```\n",
    "\n",
    "---\n",
    "\n",
    "## **Podsumowanie**\n",
    "Po wykonaniu tego ćwiczenia studenci będą umieli:\n",
    "✅ Tworzyć podstawowe API w Flasku.  \n",
    "✅ Dodawać podstrony i obsługiwać parametry URL.  \n",
    "✅ Wysyłać zapytania GET i analizować odpowiedzi.  \n",
    "✅ Automatycznie uruchamiać serwer z Jupyter Notebook.  \n",
    "✅ Implementować prosty model decyzyjny w API.  \n",
    "\n",
    "Gotowi na kolejne wyzwania? 🚀"
   ]
  },
  {
   "cell_type": "code",
   "execution_count": null,
   "id": "2a08af6f-f126-45bd-acc6-a4f243c54ed6",
   "metadata": {},
   "outputs": [],
   "source": []
  }
 ],
 "metadata": {
  "kernelspec": {
   "display_name": "Python 3 (ipykernel)",
   "language": "python",
   "name": "python3"
  },
  "language_info": {
   "codemirror_mode": {
    "name": "ipython",
    "version": 3
   },
   "file_extension": ".py",
   "mimetype": "text/x-python",
   "name": "python",
   "nbconvert_exporter": "python",
   "pygments_lexer": "ipython3",
   "version": "3.11.6"
  }
 },
 "nbformat": 4,
 "nbformat_minor": 5
}
